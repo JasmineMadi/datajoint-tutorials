{
 "cells": [
  {
   "cell_type": "markdown",
   "id": "6e26075b",
   "metadata": {},
   "source": [
    "# Hotel Database\n",
    "## Assignment\n",
    "\n",
    "Design, populate, and query a database for a hotel reservation system with the following business rules:\n",
    "\n",
    "1. The hotel has a number of rooms of two types: Deluxe and Suite\n",
    "2. For every night, some rooms are made available for reservation for a specific price.\n",
    "3. A guest can make a reservation for an avavilable room for one night. The reservation must include credit card payment info. At most one reservation can be made per night per room.\n",
    "4. A guest can check into a room that has been reserved. An attempt to check in without a reservation will generate an error.\n",
    "5. A guest can check out only after checking in. An attempt to check out multiple times or check out without checking in will generate an error.\n",
    "\n",
    "Your Python code should provide the following:\n",
    "\n",
    "1. A section to create the tables. The design must be in 3rd normal form following the conventions discussed in class and enforcing the business rules above.\n",
    "\n",
    "2. Provide code to populate rooms and room availability with prices.\n",
    "\n",
    "3. The function `reserve_room(room, date, guest_name, credit_card)` to make a reservation. A script that populates at least 300 reservations (e.g. use `faker`)\n",
    "\n",
    "4. The functions `checkin(room, date)` and `checkout(room, date)` to check guests in and out. Write a script that invokes `checkin` and `checkout` for a buncha guests.  Demonstrate that that the functions enforces the rules of the business.\n",
    "\n",
    "5. Write a query to list all guests who have stayed in a given room in 2021.\n",
    "\n",
    "6. Write a query to list all dates on which a specific guest stayed at the hotel.\n",
    "\n"
   ]
  },
  {
   "cell_type": "markdown",
   "id": "33e46762",
   "metadata": {},
   "source": [
    "# Define the database"
   ]
  },
  {
   "cell_type": "code",
   "execution_count": 1,
   "id": "fc703fb8",
   "metadata": {},
   "outputs": [
    {
     "name": "stderr",
     "output_type": "stream",
     "text": [
      "[2023-11-15 07:23:16,425][INFO]: Connecting root@fakeservices.datajoint.io:3306\n",
      "[2023-11-15 07:23:16,517][INFO]: Connected root@fakeservices.datajoint.io:3306\n"
     ]
    }
   ],
   "source": [
    "import datajoint as dj\n",
    "schema = dj.Schema('hotel')"
   ]
  },
  {
   "cell_type": "code",
   "execution_count": 2,
   "id": "62d97e04",
   "metadata": {},
   "outputs": [],
   "source": [
    "@schema\n",
    "class Room(dj.Manual):\n",
    "    definition = \"\"\"\n",
    "    room : int\n",
    "    --- \n",
    "    room_type : enum('Deluxe', 'Suite')\n",
    "    \"\"\""
   ]
  },
  {
   "cell_type": "code",
   "execution_count": 3,
   "id": "280e7440",
   "metadata": {},
   "outputs": [],
   "source": [
    "@schema\n",
    "class RoomAvailable(dj.Manual):\n",
    "    definition = \"\"\"\n",
    "    -> Room\n",
    "    date : date \n",
    "    ---\n",
    "    price : decimal(6, 2)\n",
    "    \"\"\""
   ]
  },
  {
   "cell_type": "code",
   "execution_count": 4,
   "id": "dc952e39",
   "metadata": {},
   "outputs": [],
   "source": [
    "@schema\n",
    "class Guest(dj.Manual):\n",
    "    definition = \"\"\"\n",
    "    guest_id : int unsigned\n",
    "    --- \n",
    "    guest_name : varchar(60)\n",
    "    index(guest_name)\n",
    "    \"\"\""
   ]
  },
  {
   "cell_type": "code",
   "execution_count": 5,
   "id": "14929f5b",
   "metadata": {},
   "outputs": [],
   "source": [
    "@schema\n",
    "class Reservation(dj.Manual):\n",
    "    definition = \"\"\"\n",
    "    -> RoomAvailable\n",
    "    ---\n",
    "    -> Guest\n",
    "    credit_card : varchar(80)\n",
    "    \"\"\""
   ]
  },
  {
   "cell_type": "code",
   "execution_count": 6,
   "id": "61f03f74",
   "metadata": {},
   "outputs": [],
   "source": [
    "@schema\n",
    "class CheckIn(dj.Manual):\n",
    "    definition = \"\"\"\n",
    "    -> Reservation\n",
    "    \"\"\""
   ]
  },
  {
   "cell_type": "code",
   "execution_count": 7,
   "id": "c163c97c",
   "metadata": {},
   "outputs": [],
   "source": [
    "@schema\n",
    "class CheckOut(dj.Manual):\n",
    "    definition = \"\"\"\n",
    "    -> CheckIn\n",
    "    \"\"\""
   ]
  },
  {
   "cell_type": "code",
   "execution_count": 8,
   "id": "c98936a8",
   "metadata": {},
   "outputs": [
    {
     "data": {
      "image/svg+xml": [
       "<svg xmlns=\"http://www.w3.org/2000/svg\" xmlns:xlink=\"http://www.w3.org/1999/xlink\" width=\"172pt\" height=\"327pt\" viewBox=\"0.00 0.00 172.00 327.00\">\n",
       "<g id=\"graph0\" class=\"graph\" transform=\"scale(1 1) rotate(0) translate(4 323)\">\n",
       "<title>%3</title>\n",
       "<polygon fill=\"white\" stroke=\"transparent\" points=\"-4,4 -4,-323 168,-323 168,4 -4,4\"/>\n",
       "<!-- Reservation -->\n",
       "<g id=\"node1\" class=\"node\">\n",
       "<title>Reservation</title>\n",
       "<g id=\"a_node1\"><a xlink:title=\"→ RoomAvailable\r------------------------------\r→ Guest\rcredit_card          \r\">\n",
       "<polygon fill=\"#00ff00\" fill-opacity=\"0.188235\" stroke=\"#00ff00\" stroke-opacity=\"0.188235\" points=\"109.5,-177 28.5,-177 28.5,-142 109.5,-142 109.5,-177\"/>\n",
       "<text text-anchor=\"middle\" x=\"69\" y=\"-156.4\" font-family=\"arial\" font-size=\"12.00\" fill=\"darkgreen\">Reservation</text>\n",
       "</a>\n",
       "</g>\n",
       "</g>\n",
       "<!-- CheckIn -->\n",
       "<g id=\"node4\" class=\"node\">\n",
       "<title>CheckIn</title>\n",
       "<g id=\"a_node4\"><a xlink:title=\"→ Reservation\r\">\n",
       "<polygon fill=\"#00ff00\" fill-opacity=\"0.188235\" stroke=\"#00ff00\" stroke-opacity=\"0.188235\" points=\"99.5,-106 38.5,-106 38.5,-71 99.5,-71 99.5,-106\"/>\n",
       "<text text-anchor=\"middle\" x=\"69\" y=\"-85.4\" font-family=\"arial\" font-size=\"12.00\" fill=\"darkgreen\">CheckIn</text>\n",
       "</a>\n",
       "</g>\n",
       "</g>\n",
       "<!-- Reservation&#45;&gt;CheckIn -->\n",
       "<g id=\"edge1\" class=\"edge\">\n",
       "<title>Reservation-&gt;CheckIn</title>\n",
       "<path fill=\"none\" stroke=\"#000000\" stroke-width=\"2\" stroke-opacity=\"0.250980\" d=\"M69,-141.8C69,-130.95 69,-116.87 69,-106.05\"/>\n",
       "</g>\n",
       "<!-- Guest -->\n",
       "<g id=\"node2\" class=\"node\">\n",
       "<title>Guest</title>\n",
       "<g id=\"a_node2\"><a xlink:title=\"guest_id             \r------------------------------\rguest_name           \rINDEX (guest_name)\r\">\n",
       "<polygon fill=\"#00ff00\" fill-opacity=\"0.188235\" stroke=\"#00ff00\" stroke-opacity=\"0.188235\" points=\"48,-248 0,-248 0,-213 48,-213 48,-248\"/>\n",
       "<text text-anchor=\"start\" x=\"8\" y=\"-228.4\" font-family=\"arial\" text-decoration=\"underline\" font-size=\"12.00\" fill=\"darkgreen\">Guest</text>\n",
       "</a>\n",
       "</g>\n",
       "</g>\n",
       "<!-- Guest&#45;&gt;Reservation -->\n",
       "<g id=\"edge2\" class=\"edge\">\n",
       "<title>Guest-&gt;Reservation</title>\n",
       "<path fill=\"none\" stroke=\"#000000\" stroke-width=\"0.75\" stroke-dasharray=\"5,2\" stroke-opacity=\"0.250980\" d=\"M34.89,-212.8C41.97,-201.95 51.15,-187.87 58.21,-177.05\"/>\n",
       "</g>\n",
       "<!-- CheckOut -->\n",
       "<g id=\"node3\" class=\"node\">\n",
       "<title>CheckOut</title>\n",
       "<g id=\"a_node3\"><a xlink:title=\"→ CheckIn\r\">\n",
       "<polygon fill=\"#00ff00\" fill-opacity=\"0.188235\" stroke=\"#00ff00\" stroke-opacity=\"0.188235\" points=\"104,-35 34,-35 34,0 104,0 104,-35\"/>\n",
       "<text text-anchor=\"middle\" x=\"69\" y=\"-14.4\" font-family=\"arial\" font-size=\"12.00\" fill=\"darkgreen\">CheckOut</text>\n",
       "</a>\n",
       "</g>\n",
       "</g>\n",
       "<!-- CheckIn&#45;&gt;CheckOut -->\n",
       "<g id=\"edge3\" class=\"edge\">\n",
       "<title>CheckIn-&gt;CheckOut</title>\n",
       "<path fill=\"none\" stroke=\"#000000\" stroke-width=\"2\" stroke-opacity=\"0.250980\" d=\"M69,-70.8C69,-59.95 69,-45.87 69,-35.05\"/>\n",
       "</g>\n",
       "<!-- RoomAvailable -->\n",
       "<g id=\"node5\" class=\"node\">\n",
       "<title>RoomAvailable</title>\n",
       "<g id=\"a_node5\"><a xlink:title=\"→ Room\rdate                 \r------------------------------\rprice                \r\">\n",
       "<polygon fill=\"#00ff00\" fill-opacity=\"0.188235\" stroke=\"#00ff00\" stroke-opacity=\"0.188235\" points=\"164,-248 66,-248 66,-213 164,-213 164,-248\"/>\n",
       "<text text-anchor=\"start\" x=\"74\" y=\"-228.4\" font-family=\"arial\" text-decoration=\"underline\" font-size=\"12.00\" fill=\"darkgreen\">RoomAvailable</text>\n",
       "</a>\n",
       "</g>\n",
       "</g>\n",
       "<!-- RoomAvailable&#45;&gt;Reservation -->\n",
       "<g id=\"edge4\" class=\"edge\">\n",
       "<title>RoomAvailable-&gt;Reservation</title>\n",
       "<path fill=\"none\" stroke=\"#000000\" stroke-width=\"2\" stroke-opacity=\"0.250980\" d=\"M103.86,-212.8C96.63,-201.95 87.24,-187.87 80.03,-177.05\"/>\n",
       "</g>\n",
       "<!-- Room -->\n",
       "<g id=\"node6\" class=\"node\">\n",
       "<title>Room</title>\n",
       "<g id=\"a_node6\"><a xlink:title=\"room                 \r------------------------------\rroom_type            \r\">\n",
       "<polygon fill=\"#00ff00\" fill-opacity=\"0.188235\" stroke=\"#00ff00\" stroke-opacity=\"0.188235\" points=\"139.5,-319 90.5,-319 90.5,-284 139.5,-284 139.5,-319\"/>\n",
       "<text text-anchor=\"start\" x=\"98.5\" y=\"-299.4\" font-family=\"arial\" text-decoration=\"underline\" font-size=\"12.00\" fill=\"darkgreen\">Room</text>\n",
       "</a>\n",
       "</g>\n",
       "</g>\n",
       "<!-- Room&#45;&gt;RoomAvailable -->\n",
       "<g id=\"edge5\" class=\"edge\">\n",
       "<title>Room-&gt;RoomAvailable</title>\n",
       "<path fill=\"none\" stroke=\"#000000\" stroke-width=\"0.75\" stroke-opacity=\"0.250980\" d=\"M115,-283.8C115,-272.95 115,-258.87 115,-248.05\"/>\n",
       "</g>\n",
       "</g>\n",
       "</svg>"
      ],
      "text/plain": [
       "<datajoint.diagram.Diagram at 0x7f889f0d4760>"
      ]
     },
     "execution_count": 8,
     "metadata": {},
     "output_type": "execute_result"
    }
   ],
   "source": [
    "dj.Diagram(schema)"
   ]
  },
  {
   "cell_type": "markdown",
   "id": "3bab6ec9",
   "metadata": {},
   "source": [
    "# Populate Room Availability"
   ]
  },
  {
   "cell_type": "code",
   "execution_count": 9,
   "id": "64060872",
   "metadata": {},
   "outputs": [],
   "source": [
    "import faker\n",
    "import random\n",
    "import datetime\n",
    "import tqdm\n",
    "fake = faker.Faker()"
   ]
  },
  {
   "cell_type": "code",
   "execution_count": 10,
   "id": "281c8ca7",
   "metadata": {},
   "outputs": [],
   "source": [
    "# populate rooms\n",
    "Room.insert((i, \"Deluxe\" if i%2 else \"Suite\") for i in range(80))"
   ]
  },
  {
   "cell_type": "code",
   "execution_count": 11,
   "id": "86bc4436",
   "metadata": {},
   "outputs": [
    {
     "name": "stderr",
     "output_type": "stream",
     "text": [
      "100%|██████████| 45/45 [00:02<00:00, 18.42it/s]\n"
     ]
    }
   ],
   "source": [
    "# Populate Room availability: 45 days starting on start_date\n",
    "start_date = datetime.date(2023, 11, 1)\n",
    "days = 45\n",
    "\n",
    "for day in tqdm.tqdm(range(days)):\n",
    "    price = random.randint(40, 350) \n",
    "    RoomAvailable.insert(\n",
    "        dict(key, \n",
    "             date=start_date + datetime.timedelta(days=day), \n",
    "             price=price) for key in Room.fetch('KEY'))\n",
    "    "
   ]
  },
  {
   "cell_type": "markdown",
   "id": "4deda107",
   "metadata": {},
   "source": [
    "# Functions "
   ]
  },
  {
   "cell_type": "code",
   "execution_count": 12,
   "id": "48470620",
   "metadata": {},
   "outputs": [],
   "source": [
    "class HotelException(Exception): pass\n",
    "class RoomUnavailable(HotelException): pass\n",
    "class RoomAlreadyReserved(HotelException): pass\n",
    "class AlreadyChecked(HotelException): pass\n",
    "class NoReservation(HotelException): pass\n",
    "class NotCheckedIn(HotelException): pass"
   ]
  },
  {
   "cell_type": "code",
   "execution_count": 13,
   "id": "5603309c",
   "metadata": {},
   "outputs": [],
   "source": [
    "def reserve_room(room, date, guest_name, credit_card):\n",
    "    # lookup guest by name\n",
    "    keys = (Guest & {'guest_name': guest_name}).fetch('KEY')\n",
    "    \n",
    "    if keys:\n",
    "        # if multiple found, use the first, for example\n",
    "        key = keys[0]  \n",
    "    else:\n",
    "        # if not registered before, create a new guest id\n",
    "        key = dict(guest_id=random.randint(0, 2**32-1))\n",
    "        Guest.insert1(dict(key, guest_name=guest_name))\n",
    "    \n",
    "    try:\n",
    "        Reservation.insert1(\n",
    "            dict(key, room=room, date=date, credit_card=credit_card))\n",
    "    except dj.errors.DuplicateError:\n",
    "        raise RoomAlreadyReserved(room, date.isoformat()) from None\n",
    "    except dj.errors.IntegrityError:\n",
    "        raise RoomUnavailable(room, date.isoformat()) from None"
   ]
  },
  {
   "cell_type": "code",
   "execution_count": 14,
   "id": "fd3b9e30",
   "metadata": {},
   "outputs": [],
   "source": [
    "def check_in(room, date):\n",
    "    try:\n",
    "        CheckIn.insert1(dict(room=room, date=date))\n",
    "    except dj.errors.DuplicateError:\n",
    "        raise AlreadyChecked(room, date.isoformat()) from None\n",
    "    except dj.errors.IntegrityError:\n",
    "        raise NoReservation(room, date.isoformat()) from None"
   ]
  },
  {
   "cell_type": "code",
   "execution_count": 15,
   "id": "09e340e2",
   "metadata": {},
   "outputs": [],
   "source": [
    "def check_out(room, date):\n",
    "    try:\n",
    "        CheckOut.insert1(dict(room=room, date=date))\n",
    "    except dj.errors.DuplicateError:\n",
    "        raise AlreadyChecked(room, date.isoformat()) from None\n",
    "    except dj.errors.IntegrityError:\n",
    "        raise NotCheckedIn(room, date.isoformat()) from None"
   ]
  },
  {
   "cell_type": "markdown",
   "id": "60740817",
   "metadata": {},
   "source": [
    "# Operations"
   ]
  },
  {
   "cell_type": "code",
   "execution_count": 16,
   "id": "8dbad565",
   "metadata": {
    "scrolled": false
   },
   "outputs": [
    {
     "name": "stderr",
     "output_type": "stream",
     "text": [
      "  4%|▍         | 4/100 [00:02<00:50,  1.92it/s]"
     ]
    },
    {
     "name": "stdout",
     "output_type": "stream",
     "text": [
      "RoomUnavailable(80, '2023-11-09')\n"
     ]
    },
    {
     "name": "stderr",
     "output_type": "stream",
     "text": [
      "  8%|▊         | 8/100 [00:04<00:42,  2.18it/s]"
     ]
    },
    {
     "name": "stdout",
     "output_type": "stream",
     "text": [
      "RoomAlreadyReserved(27, '2023-11-22')\n"
     ]
    },
    {
     "name": "stderr",
     "output_type": "stream",
     "text": [
      " 11%|█         | 11/100 [00:05<00:35,  2.54it/s]"
     ]
    },
    {
     "name": "stdout",
     "output_type": "stream",
     "text": [
      "RoomUnavailable(80, '2023-11-05')\n"
     ]
    },
    {
     "name": "stderr",
     "output_type": "stream",
     "text": [
      " 15%|█▌        | 15/100 [00:06<00:26,  3.26it/s]"
     ]
    },
    {
     "name": "stdout",
     "output_type": "stream",
     "text": [
      "RoomUnavailable(80, '2023-11-16')\n"
     ]
    },
    {
     "name": "stderr",
     "output_type": "stream",
     "text": [
      " 18%|█▊        | 18/100 [00:08<00:33,  2.48it/s]"
     ]
    },
    {
     "name": "stdout",
     "output_type": "stream",
     "text": [
      "RoomAlreadyReserved(20, '2023-11-26')\n",
      "RoomAlreadyReserved(7, '2023-12-10')\n"
     ]
    },
    {
     "name": "stderr",
     "output_type": "stream",
     "text": [
      " 19%|█▉        | 19/100 [00:08<00:39,  2.07it/s]"
     ]
    },
    {
     "name": "stdout",
     "output_type": "stream",
     "text": [
      "RoomAlreadyReserved(42, '2023-11-27')\n"
     ]
    },
    {
     "name": "stderr",
     "output_type": "stream",
     "text": [
      " 20%|██        | 20/100 [00:09<00:45,  1.75it/s]"
     ]
    },
    {
     "name": "stdout",
     "output_type": "stream",
     "text": [
      "RoomAlreadyReserved(56, '2023-11-04')\n"
     ]
    },
    {
     "name": "stderr",
     "output_type": "stream",
     "text": [
      " 24%|██▍       | 24/100 [00:10<00:25,  2.97it/s]"
     ]
    },
    {
     "name": "stdout",
     "output_type": "stream",
     "text": [
      "RoomAlreadyReserved(22, '2023-11-12')\n",
      "RoomAlreadyReserved(17, '2023-12-09')\n"
     ]
    },
    {
     "name": "stderr",
     "output_type": "stream",
     "text": [
      " 26%|██▌       | 26/100 [00:11<00:23,  3.16it/s]"
     ]
    },
    {
     "name": "stdout",
     "output_type": "stream",
     "text": [
      "RoomAlreadyReserved(16, '2023-11-10')\n",
      "RoomUnavailable(80, '2023-12-06')\n",
      "RoomAlreadyReserved(2, '2023-11-16')\n"
     ]
    },
    {
     "name": "stderr",
     "output_type": "stream",
     "text": [
      " 28%|██▊       | 28/100 [00:12<00:37,  1.91it/s]"
     ]
    },
    {
     "name": "stdout",
     "output_type": "stream",
     "text": [
      "RoomAlreadyReserved(65, '2023-12-15')\n"
     ]
    },
    {
     "name": "stderr",
     "output_type": "stream",
     "text": [
      " 29%|██▉       | 29/100 [00:12<00:28,  2.48it/s]"
     ]
    },
    {
     "name": "stdout",
     "output_type": "stream",
     "text": [
      "RoomAlreadyReserved(79, '2023-11-11')\n"
     ]
    },
    {
     "name": "stderr",
     "output_type": "stream",
     "text": [
      " 32%|███▏      | 32/100 [00:13<00:26,  2.61it/s]"
     ]
    },
    {
     "name": "stdout",
     "output_type": "stream",
     "text": [
      "RoomAlreadyReserved(77, '2023-12-11')\n",
      "RoomAlreadyReserved(29, '2023-11-15')\n"
     ]
    },
    {
     "name": "stderr",
     "output_type": "stream",
     "text": [
      " 33%|███▎      | 33/100 [00:14<00:30,  2.18it/s]"
     ]
    },
    {
     "name": "stdout",
     "output_type": "stream",
     "text": [
      "RoomAlreadyReserved(34, '2023-11-15')\n"
     ]
    },
    {
     "name": "stderr",
     "output_type": "stream",
     "text": [
      " 36%|███▌      | 36/100 [00:15<00:22,  2.89it/s]"
     ]
    },
    {
     "name": "stdout",
     "output_type": "stream",
     "text": [
      "RoomAlreadyReserved(56, '2023-11-13')\n",
      "RoomAlreadyReserved(38, '2023-11-22')\n"
     ]
    },
    {
     "name": "stderr",
     "output_type": "stream",
     "text": [
      " 37%|███▋      | 37/100 [00:16<00:28,  2.23it/s]"
     ]
    },
    {
     "name": "stdout",
     "output_type": "stream",
     "text": [
      "RoomAlreadyReserved(0, '2023-11-23')\n",
      "RoomUnavailable(80, '2023-11-21')\n"
     ]
    },
    {
     "name": "stderr",
     "output_type": "stream",
     "text": [
      " 39%|███▉      | 39/100 [00:17<00:26,  2.30it/s]"
     ]
    },
    {
     "name": "stdout",
     "output_type": "stream",
     "text": [
      "RoomAlreadyReserved(1, '2023-11-23')\n"
     ]
    },
    {
     "name": "stderr",
     "output_type": "stream",
     "text": [
      " 41%|████      | 41/100 [00:17<00:15,  3.87it/s]"
     ]
    },
    {
     "name": "stdout",
     "output_type": "stream",
     "text": [
      "RoomAlreadyReserved(35, '2023-12-09')\n",
      "RoomAlreadyReserved(30, '2023-11-14')\n"
     ]
    },
    {
     "name": "stderr",
     "output_type": "stream",
     "text": [
      " 42%|████▏     | 42/100 [00:17<00:17,  3.32it/s]"
     ]
    },
    {
     "name": "stdout",
     "output_type": "stream",
     "text": [
      "RoomAlreadyReserved(67, '2023-11-08')\n",
      "RoomAlreadyReserved(65, '2023-12-12')\n",
      "RoomAlreadyReserved(68, '2023-12-04')\n",
      "RoomAlreadyReserved(50, '2023-11-15')\n"
     ]
    },
    {
     "name": "stderr",
     "output_type": "stream",
     "text": [
      " 43%|████▎     | 43/100 [00:18<00:20,  2.80it/s]"
     ]
    },
    {
     "name": "stdout",
     "output_type": "stream",
     "text": [
      "RoomAlreadyReserved(18, '2023-11-26')\n",
      "RoomAlreadyReserved(22, '2023-11-11')\n"
     ]
    },
    {
     "name": "stderr",
     "output_type": "stream",
     "text": [
      " 44%|████▍     | 44/100 [00:18<00:21,  2.58it/s]"
     ]
    },
    {
     "name": "stdout",
     "output_type": "stream",
     "text": [
      "RoomAlreadyReserved(55, '2023-11-22')\n",
      "RoomAlreadyReserved(48, '2023-11-04')\n",
      "RoomAlreadyReserved(68, '2023-11-27')\n",
      "RoomAlreadyReserved(72, '2023-11-17')\n"
     ]
    },
    {
     "name": "stderr",
     "output_type": "stream",
     "text": [
      " 46%|████▌     | 46/100 [00:19<00:20,  2.69it/s]"
     ]
    },
    {
     "name": "stdout",
     "output_type": "stream",
     "text": [
      "RoomAlreadyReserved(6, '2023-11-10')\n"
     ]
    },
    {
     "name": "stderr",
     "output_type": "stream",
     "text": [
      " 47%|████▋     | 47/100 [00:20<00:24,  2.20it/s]"
     ]
    },
    {
     "name": "stdout",
     "output_type": "stream",
     "text": [
      "RoomAlreadyReserved(20, '2023-11-15')\n",
      "RoomAlreadyReserved(53, '2023-11-30')\n"
     ]
    },
    {
     "name": "stderr",
     "output_type": "stream",
     "text": [
      " 48%|████▊     | 48/100 [00:20<00:23,  2.18it/s]"
     ]
    },
    {
     "name": "stdout",
     "output_type": "stream",
     "text": [
      "RoomAlreadyReserved(28, '2023-11-18')\n",
      "RoomAlreadyReserved(22, '2023-12-05')\n"
     ]
    },
    {
     "name": "stderr",
     "output_type": "stream",
     "text": [
      " 52%|█████▏    | 52/100 [00:21<00:13,  3.44it/s]"
     ]
    },
    {
     "name": "stdout",
     "output_type": "stream",
     "text": [
      "RoomAlreadyReserved(36, '2023-12-13')\n",
      "RoomAlreadyReserved(18, '2023-11-26')\n"
     ]
    },
    {
     "name": "stderr",
     "output_type": "stream",
     "text": [
      " 55%|█████▌    | 55/100 [00:22<00:14,  3.07it/s]"
     ]
    },
    {
     "name": "stdout",
     "output_type": "stream",
     "text": [
      "RoomAlreadyReserved(57, '2023-11-21')\n",
      "RoomAlreadyReserved(45, '2023-12-15')\n",
      "RoomAlreadyReserved(43, '2023-12-12')\n"
     ]
    },
    {
     "name": "stderr",
     "output_type": "stream",
     "text": [
      " 56%|█████▌    | 56/100 [00:23<00:18,  2.42it/s]"
     ]
    },
    {
     "name": "stdout",
     "output_type": "stream",
     "text": [
      "RoomAlreadyReserved(48, '2023-11-16')\n",
      "RoomAlreadyReserved(26, '2023-12-11')\n",
      "RoomUnavailable(80, '2023-12-05')\n",
      "RoomAlreadyReserved(71, '2023-12-11')\n"
     ]
    },
    {
     "name": "stderr",
     "output_type": "stream",
     "text": [
      " 60%|██████    | 60/100 [00:25<00:21,  1.85it/s]"
     ]
    },
    {
     "name": "stdout",
     "output_type": "stream",
     "text": [
      "RoomAlreadyReserved(31, '2023-12-08')\n",
      "RoomAlreadyReserved(50, '2023-11-15')\n",
      "RoomAlreadyReserved(5, '2023-11-21')\n",
      "RoomAlreadyReserved(38, '2023-12-09')\n"
     ]
    },
    {
     "name": "stderr",
     "output_type": "stream",
     "text": [
      " 61%|██████    | 61/100 [00:25<00:20,  1.88it/s]"
     ]
    },
    {
     "name": "stdout",
     "output_type": "stream",
     "text": [
      "RoomAlreadyReserved(21, '2023-11-08')\n",
      "RoomAlreadyReserved(30, '2023-11-03')\n"
     ]
    },
    {
     "name": "stderr",
     "output_type": "stream",
     "text": [
      " 62%|██████▏   | 62/100 [00:26<00:21,  1.77it/s]"
     ]
    },
    {
     "name": "stdout",
     "output_type": "stream",
     "text": [
      "RoomAlreadyReserved(73, '2023-12-12')\n",
      "RoomAlreadyReserved(58, '2023-12-13')\n"
     ]
    },
    {
     "name": "stderr",
     "output_type": "stream",
     "text": [
      " 63%|██████▎   | 63/100 [00:26<00:17,  2.15it/s]"
     ]
    },
    {
     "name": "stdout",
     "output_type": "stream",
     "text": [
      "RoomAlreadyReserved(13, '2023-11-28')\n",
      "RoomAlreadyReserved(43, '2023-12-12')\n",
      "RoomAlreadyReserved(73, '2023-11-07')\n"
     ]
    },
    {
     "name": "stderr",
     "output_type": "stream",
     "text": [
      " 65%|██████▌   | 65/100 [00:27<00:15,  2.21it/s]"
     ]
    },
    {
     "name": "stdout",
     "output_type": "stream",
     "text": [
      "RoomAlreadyReserved(31, '2023-11-08')\n",
      "RoomAlreadyReserved(67, '2023-12-09')\n",
      "RoomAlreadyReserved(57, '2023-11-14')\n",
      "RoomAlreadyReserved(3, '2023-11-28')\n",
      "RoomAlreadyReserved(9, '2023-11-01')\n",
      "RoomAlreadyReserved(70, '2023-11-28')\n"
     ]
    },
    {
     "name": "stderr",
     "output_type": "stream",
     "text": [
      " 66%|██████▌   | 66/100 [00:28<00:15,  2.13it/s]"
     ]
    },
    {
     "name": "stdout",
     "output_type": "stream",
     "text": [
      "RoomAlreadyReserved(70, '2023-11-17')\n"
     ]
    },
    {
     "name": "stderr",
     "output_type": "stream",
     "text": [
      " 67%|██████▋   | 67/100 [00:28<00:17,  1.91it/s]"
     ]
    },
    {
     "name": "stdout",
     "output_type": "stream",
     "text": [
      "RoomAlreadyReserved(55, '2023-11-28')\n"
     ]
    },
    {
     "name": "stderr",
     "output_type": "stream",
     "text": [
      " 68%|██████▊   | 68/100 [00:29<00:14,  2.14it/s]"
     ]
    },
    {
     "name": "stdout",
     "output_type": "stream",
     "text": [
      "RoomAlreadyReserved(6, '2023-11-10')\n",
      "RoomAlreadyReserved(17, '2023-11-21')\n",
      "RoomAlreadyReserved(77, '2023-11-30')\n",
      "RoomAlreadyReserved(3, '2023-12-15')\n"
     ]
    },
    {
     "name": "stderr",
     "output_type": "stream",
     "text": [
      " 70%|███████   | 70/100 [00:29<00:10,  2.97it/s]"
     ]
    },
    {
     "name": "stdout",
     "output_type": "stream",
     "text": [
      "RoomAlreadyReserved(60, '2023-11-21')\n",
      "RoomAlreadyReserved(14, '2023-12-09')\n",
      "RoomAlreadyReserved(25, '2023-12-08')\n"
     ]
    },
    {
     "name": "stderr",
     "output_type": "stream",
     "text": [
      " 71%|███████   | 71/100 [00:29<00:10,  2.65it/s]"
     ]
    },
    {
     "name": "stdout",
     "output_type": "stream",
     "text": [
      "RoomAlreadyReserved(49, '2023-12-14')\n",
      "RoomAlreadyReserved(24, '2023-12-05')\n",
      "RoomAlreadyReserved(2, '2023-12-14')\n",
      "RoomAlreadyReserved(12, '2023-11-16')\n"
     ]
    },
    {
     "name": "stderr",
     "output_type": "stream",
     "text": [
      " 72%|███████▏  | 72/100 [00:30<00:09,  3.09it/s]"
     ]
    },
    {
     "name": "stdout",
     "output_type": "stream",
     "text": [
      "RoomAlreadyReserved(72, '2023-11-11')\n",
      "RoomAlreadyReserved(45, '2023-11-12')\n",
      "RoomAlreadyReserved(56, '2023-11-14')\n"
     ]
    },
    {
     "name": "stderr",
     "output_type": "stream",
     "text": [
      " 73%|███████▎  | 73/100 [00:30<00:08,  3.07it/s]"
     ]
    },
    {
     "name": "stdout",
     "output_type": "stream",
     "text": [
      "RoomAlreadyReserved(50, '2023-11-16')\n",
      "RoomAlreadyReserved(0, '2023-11-05')\n",
      "RoomAlreadyReserved(20, '2023-11-18')\n",
      "RoomAlreadyReserved(71, '2023-11-28')\n",
      "RoomUnavailable(80, '2023-11-05')\n",
      "RoomAlreadyReserved(40, '2023-12-09')\n"
     ]
    },
    {
     "name": "stderr",
     "output_type": "stream",
     "text": [
      " 77%|███████▋  | 77/100 [00:31<00:06,  3.82it/s]"
     ]
    },
    {
     "name": "stdout",
     "output_type": "stream",
     "text": [
      "RoomAlreadyReserved(45, '2023-11-25')\n",
      "RoomAlreadyReserved(73, '2023-11-19')\n",
      "RoomAlreadyReserved(22, '2023-11-26')\n",
      "RoomAlreadyReserved(63, '2023-12-13')\n",
      "RoomAlreadyReserved(68, '2023-12-08')\n",
      "RoomAlreadyReserved(18, '2023-12-11')\n",
      "RoomAlreadyReserved(23, '2023-11-17')\n"
     ]
    },
    {
     "name": "stderr",
     "output_type": "stream",
     "text": [
      " 79%|███████▉  | 79/100 [00:32<00:05,  3.56it/s]"
     ]
    },
    {
     "name": "stdout",
     "output_type": "stream",
     "text": [
      "RoomAlreadyReserved(11, '2023-11-03')\n"
     ]
    },
    {
     "name": "stderr",
     "output_type": "stream",
     "text": [
      " 80%|████████  | 80/100 [00:32<00:06,  3.00it/s]"
     ]
    },
    {
     "name": "stdout",
     "output_type": "stream",
     "text": [
      "RoomAlreadyReserved(14, '2023-11-08')\n",
      "RoomAlreadyReserved(24, '2023-11-16')\n",
      "RoomAlreadyReserved(36, '2023-11-07')\n",
      "RoomAlreadyReserved(24, '2023-12-08')\n",
      "RoomAlreadyReserved(36, '2023-11-15')\n",
      "RoomAlreadyReserved(23, '2023-11-12')\n"
     ]
    },
    {
     "name": "stderr",
     "output_type": "stream",
     "text": [
      " 81%|████████  | 81/100 [00:33<00:07,  2.46it/s]"
     ]
    },
    {
     "name": "stdout",
     "output_type": "stream",
     "text": [
      "RoomAlreadyReserved(34, '2023-11-29')\n",
      "RoomAlreadyReserved(65, '2023-12-07')\n",
      "RoomAlreadyReserved(12, '2023-11-08')\n",
      "RoomAlreadyReserved(28, '2023-12-01')\n",
      "RoomAlreadyReserved(29, '2023-11-27')\n",
      "RoomAlreadyReserved(74, '2023-11-28')\n"
     ]
    },
    {
     "name": "stderr",
     "output_type": "stream",
     "text": [
      " 83%|████████▎ | 83/100 [00:33<00:06,  2.51it/s]"
     ]
    },
    {
     "name": "stdout",
     "output_type": "stream",
     "text": [
      "RoomAlreadyReserved(41, '2023-11-18')\n",
      "RoomAlreadyReserved(51, '2023-12-13')\n"
     ]
    },
    {
     "name": "stderr",
     "output_type": "stream",
     "text": [
      " 84%|████████▍ | 84/100 [00:34<00:06,  2.47it/s]"
     ]
    },
    {
     "name": "stdout",
     "output_type": "stream",
     "text": [
      "RoomAlreadyReserved(75, '2023-12-07')\n",
      "RoomUnavailable(80, '2023-12-15')\n",
      "RoomAlreadyReserved(18, '2023-11-05')\n",
      "RoomAlreadyReserved(77, '2023-11-11')\n"
     ]
    },
    {
     "name": "stderr",
     "output_type": "stream",
     "text": [
      " 86%|████████▌ | 86/100 [00:34<00:04,  2.89it/s]"
     ]
    },
    {
     "name": "stdout",
     "output_type": "stream",
     "text": [
      "RoomUnavailable(80, '2023-11-03')\n"
     ]
    },
    {
     "name": "stderr",
     "output_type": "stream",
     "text": [
      " 87%|████████▋ | 87/100 [00:35<00:04,  3.02it/s]"
     ]
    },
    {
     "name": "stdout",
     "output_type": "stream",
     "text": [
      "RoomAlreadyReserved(74, '2023-12-05')\n",
      "RoomAlreadyReserved(0, '2023-11-08')\n",
      "RoomAlreadyReserved(10, '2023-11-15')\n",
      "RoomAlreadyReserved(74, '2023-11-08')\n",
      "RoomAlreadyReserved(56, '2023-11-14')\n"
     ]
    },
    {
     "name": "stderr",
     "output_type": "stream",
     "text": [
      " 90%|█████████ | 90/100 [00:35<00:02,  4.30it/s]"
     ]
    },
    {
     "name": "stdout",
     "output_type": "stream",
     "text": [
      "RoomAlreadyReserved(8, '2023-12-02')\n",
      "RoomAlreadyReserved(48, '2023-11-20')\n"
     ]
    },
    {
     "name": "stderr",
     "output_type": "stream",
     "text": [
      " 91%|█████████ | 91/100 [00:36<00:02,  3.85it/s]"
     ]
    },
    {
     "name": "stdout",
     "output_type": "stream",
     "text": [
      "RoomAlreadyReserved(66, '2023-11-25')\n",
      "RoomAlreadyReserved(36, '2023-11-23')\n",
      "RoomAlreadyReserved(28, '2023-11-29')\n",
      "RoomAlreadyReserved(4, '2023-11-24')\n"
     ]
    },
    {
     "name": "stderr",
     "output_type": "stream",
     "text": [
      " 92%|█████████▏| 92/100 [00:36<00:02,  3.42it/s]"
     ]
    },
    {
     "name": "stdout",
     "output_type": "stream",
     "text": [
      "RoomAlreadyReserved(37, '2023-12-07')\n",
      "RoomAlreadyReserved(6, '2023-12-07')\n",
      "RoomAlreadyReserved(78, '2023-12-05')\n",
      "RoomAlreadyReserved(71, '2023-11-02')\n",
      "RoomAlreadyReserved(77, '2023-11-03')\n",
      "RoomAlreadyReserved(77, '2023-12-05')\n",
      "RoomAlreadyReserved(22, '2023-12-08')\n"
     ]
    },
    {
     "name": "stderr",
     "output_type": "stream",
     "text": [
      " 94%|█████████▍| 94/100 [00:37<00:02,  2.86it/s]"
     ]
    },
    {
     "name": "stdout",
     "output_type": "stream",
     "text": [
      "RoomAlreadyReserved(56, '2023-11-14')\n",
      "RoomAlreadyReserved(8, '2023-12-01')\n",
      "RoomAlreadyReserved(51, '2023-11-19')\n",
      "RoomAlreadyReserved(75, '2023-12-08')\n",
      "RoomAlreadyReserved(27, '2023-11-13')\n",
      "RoomAlreadyReserved(1, '2023-11-22')\n",
      "RoomAlreadyReserved(24, '2023-12-02')\n",
      "RoomAlreadyReserved(16, '2023-12-02')\n"
     ]
    },
    {
     "name": "stderr",
     "output_type": "stream",
     "text": [
      " 95%|█████████▌| 95/100 [00:37<00:02,  2.32it/s]"
     ]
    },
    {
     "name": "stdout",
     "output_type": "stream",
     "text": [
      "RoomAlreadyReserved(6, '2023-12-03')\n",
      "RoomAlreadyReserved(56, '2023-12-13')\n",
      "RoomAlreadyReserved(41, '2023-12-05')\n",
      "RoomAlreadyReserved(66, '2023-11-18')\n"
     ]
    },
    {
     "name": "stderr",
     "output_type": "stream",
     "text": [
      " 96%|█████████▌| 96/100 [00:38<00:01,  2.10it/s]"
     ]
    },
    {
     "name": "stdout",
     "output_type": "stream",
     "text": [
      "RoomAlreadyReserved(67, '2023-11-11')\n",
      "RoomAlreadyReserved(18, '2023-12-05')\n",
      "RoomAlreadyReserved(18, '2023-11-20')\n"
     ]
    },
    {
     "name": "stderr",
     "output_type": "stream",
     "text": [
      " 98%|█████████▊| 98/100 [00:39<00:00,  2.37it/s]"
     ]
    },
    {
     "name": "stdout",
     "output_type": "stream",
     "text": [
      "RoomAlreadyReserved(31, '2023-11-02')\n",
      "RoomAlreadyReserved(69, '2023-11-03')\n",
      "RoomAlreadyReserved(15, '2023-12-02')\n",
      "RoomAlreadyReserved(30, '2023-12-03')\n"
     ]
    },
    {
     "name": "stderr",
     "output_type": "stream",
     "text": [
      " 99%|█████████▉| 99/100 [00:39<00:00,  2.34it/s]"
     ]
    },
    {
     "name": "stdout",
     "output_type": "stream",
     "text": [
      "RoomAlreadyReserved(65, '2023-11-14')\n",
      "RoomAlreadyReserved(33, '2023-11-25')\n",
      "RoomAlreadyReserved(25, '2023-12-08')\n"
     ]
    },
    {
     "name": "stderr",
     "output_type": "stream",
     "text": [
      "100%|██████████| 100/100 [00:40<00:00,  2.50it/s]\n"
     ]
    },
    {
     "data": {
      "text/html": [
       "\n",
       "    \n",
       "    <style type=\"text/css\">\n",
       "        .Table{\n",
       "            border-collapse:collapse;\n",
       "        }\n",
       "        .Table th{\n",
       "            background: #A0A0A0; color: #ffffff; padding:4px; border:#f0e0e0 1px solid;\n",
       "            font-weight: normal; font-family: monospace; font-size: 100%;\n",
       "        }\n",
       "        .Table td{\n",
       "            padding:4px; border:#f0e0e0 1px solid; font-size:100%;\n",
       "        }\n",
       "        .Table tr:nth-child(odd){\n",
       "            background: #ffffff;\n",
       "            color: #000000;\n",
       "        }\n",
       "        .Table tr:nth-child(even){\n",
       "            background: #f3f1ff;\n",
       "            color: #000000;\n",
       "        }\n",
       "        /* Tooltip container */\n",
       "        .djtooltip {\n",
       "        }\n",
       "        /* Tooltip text */\n",
       "        .djtooltip .djtooltiptext {\n",
       "            visibility: hidden;\n",
       "            width: 120px;\n",
       "            background-color: black;\n",
       "            color: #fff;\n",
       "            text-align: center;\n",
       "            padding: 5px 0;\n",
       "            border-radius: 6px;\n",
       "            /* Position the tooltip text - see examples below! */\n",
       "            position: absolute;\n",
       "            z-index: 1;\n",
       "        }\n",
       "        #primary {\n",
       "            font-weight: bold;\n",
       "            color: black;\n",
       "        }\n",
       "        #nonprimary {\n",
       "            font-weight: normal;\n",
       "            color: white;\n",
       "        }\n",
       "\n",
       "        /* Show the tooltip text when you mouse over the tooltip container */\n",
       "        .djtooltip:hover .djtooltiptext {\n",
       "            visibility: visible;\n",
       "        }\n",
       "    </style>\n",
       "    \n",
       "    <b></b>\n",
       "        <div style=\"max-height:1000px;max-width:1500px;overflow:auto;\">\n",
       "        <table border=\"1\" class=\"Table\">\n",
       "            <thead> <tr style=\"text-align: right;\"> <th> <div class=\"djtooltip\">\n",
       "                            <p id=\"primary\">room</p>\n",
       "                            <span class=\"djtooltiptext\"></span>\n",
       "                        </div></th><th><div class=\"djtooltip\">\n",
       "                            <p id=\"primary\">date</p>\n",
       "                            <span class=\"djtooltiptext\"></span>\n",
       "                        </div></th><th><div class=\"djtooltip\">\n",
       "                            <p id=\"nonprimary\">guest_id</p>\n",
       "                            <span class=\"djtooltiptext\"></span>\n",
       "                        </div></th><th><div class=\"djtooltip\">\n",
       "                            <p id=\"nonprimary\">credit_card</p>\n",
       "                            <span class=\"djtooltiptext\"></span>\n",
       "                        </div> </th> </tr> </thead>\n",
       "            <tbody> <tr> <td>0</td>\n",
       "<td>2023-11-05</td>\n",
       "<td>65446931</td>\n",
       "<td>4332857483674028 09/28 083</td></tr><tr><td>0</td>\n",
       "<td>2023-11-08</td>\n",
       "<td>215747924</td>\n",
       "<td>378867881056861 03/26 436</td></tr><tr><td>0</td>\n",
       "<td>2023-11-15</td>\n",
       "<td>3452740088</td>\n",
       "<td>373550965409207 08/31 278</td></tr><tr><td>0</td>\n",
       "<td>2023-11-18</td>\n",
       "<td>8974405</td>\n",
       "<td>563839460950 01/26 325</td></tr><tr><td>0</td>\n",
       "<td>2023-11-21</td>\n",
       "<td>1512626014</td>\n",
       "<td>344210992793893 04/24 441</td></tr><tr><td>0</td>\n",
       "<td>2023-11-23</td>\n",
       "<td>2370993682</td>\n",
       "<td>373211316245762 12/29 054</td></tr><tr><td>0</td>\n",
       "<td>2023-11-24</td>\n",
       "<td>3787649578</td>\n",
       "<td>6011780382438092 11/27 1088</td></tr><tr><td>0</td>\n",
       "<td>2023-12-07</td>\n",
       "<td>3740092120</td>\n",
       "<td>3511185871447194 08/31 5177</td></tr><tr><td>0</td>\n",
       "<td>2023-12-14</td>\n",
       "<td>2889473981</td>\n",
       "<td>344427843171893 10/29 223</td></tr><tr><td>1</td>\n",
       "<td>2023-11-08</td>\n",
       "<td>2418599104</td>\n",
       "<td>6575305932830313 11/30 688</td></tr><tr><td>1</td>\n",
       "<td>2023-11-11</td>\n",
       "<td>3329998171</td>\n",
       "<td>4651422799821 07/29 577</td></tr><tr><td>1</td>\n",
       "<td>2023-11-20</td>\n",
       "<td>2988437429</td>\n",
       "<td>2464382623361307 12/28 336</td> </tr> </tbody>\n",
       "        </table>\n",
       "        <p>...</p>\n",
       "        <p>Total: 910</p></div>\n",
       "        "
      ],
      "text/plain": [
       "*room    *date          guest_id       credit_card   \n",
       "+------+ +------------+ +------------+ +------------+\n",
       "0        2023-11-05     65446931       43328574836740\n",
       "0        2023-11-08     215747924      37886788105686\n",
       "0        2023-11-15     3452740088     37355096540920\n",
       "0        2023-11-18     8974405        563839460950 0\n",
       "0        2023-11-21     1512626014     34421099279389\n",
       "0        2023-11-23     2370993682     37321131624576\n",
       "0        2023-11-24     3787649578     60117803824380\n",
       "0        2023-12-07     3740092120     35111858714471\n",
       "0        2023-12-14     2889473981     34442784317189\n",
       "1        2023-11-08     2418599104     65753059328303\n",
       "1        2023-11-11     3329998171     4651422799821 \n",
       "1        2023-11-20     2988437429     24643826233613\n",
       "   ...\n",
       " (Total: 910)"
      ]
     },
     "execution_count": 16,
     "metadata": {},
     "output_type": "execute_result"
    }
   ],
   "source": [
    "# make a bunch of random reservations\n",
    "\n",
    "number_of_guests = 100\n",
    "max_nights = 20\n",
    "\n",
    "for i in tqdm.tqdm(range(number_of_guests)):\n",
    "    guest = fake.name()\n",
    "    credit_card=' '.join((fake.credit_card_number(), \n",
    "                          fake.credit_card_expire(), \n",
    "                          fake.credit_card_security_code()))\n",
    "    \n",
    "    for j in range(random.randint(1, max_nights)):\n",
    "        date =  fake.date_between_dates(start_date, start_date+datetime.timedelta(days=45))\n",
    "        room = random.randint(0, 80)\n",
    "        try:\n",
    "            reserve_room(room, date, guest, credit_card)\n",
    "        except HotelException as e:\n",
    "            print(repr(e))\n",
    "            \n",
    "# show successful reservations\n",
    "Reservation()"
   ]
  },
  {
   "cell_type": "code",
   "execution_count": 21,
   "id": "dbc10353",
   "metadata": {},
   "outputs": [
    {
     "data": {
      "text/html": [
       "\n",
       "    \n",
       "    <style type=\"text/css\">\n",
       "        .Table{\n",
       "            border-collapse:collapse;\n",
       "        }\n",
       "        .Table th{\n",
       "            background: #A0A0A0; color: #ffffff; padding:4px; border:#f0e0e0 1px solid;\n",
       "            font-weight: normal; font-family: monospace; font-size: 100%;\n",
       "        }\n",
       "        .Table td{\n",
       "            padding:4px; border:#f0e0e0 1px solid; font-size:100%;\n",
       "        }\n",
       "        .Table tr:nth-child(odd){\n",
       "            background: #ffffff;\n",
       "            color: #000000;\n",
       "        }\n",
       "        .Table tr:nth-child(even){\n",
       "            background: #f3f1ff;\n",
       "            color: #000000;\n",
       "        }\n",
       "        /* Tooltip container */\n",
       "        .djtooltip {\n",
       "        }\n",
       "        /* Tooltip text */\n",
       "        .djtooltip .djtooltiptext {\n",
       "            visibility: hidden;\n",
       "            width: 120px;\n",
       "            background-color: black;\n",
       "            color: #fff;\n",
       "            text-align: center;\n",
       "            padding: 5px 0;\n",
       "            border-radius: 6px;\n",
       "            /* Position the tooltip text - see examples below! */\n",
       "            position: absolute;\n",
       "            z-index: 1;\n",
       "        }\n",
       "        #primary {\n",
       "            font-weight: bold;\n",
       "            color: black;\n",
       "        }\n",
       "        #nonprimary {\n",
       "            font-weight: normal;\n",
       "            color: white;\n",
       "        }\n",
       "\n",
       "        /* Show the tooltip text when you mouse over the tooltip container */\n",
       "        .djtooltip:hover .djtooltiptext {\n",
       "            visibility: visible;\n",
       "        }\n",
       "    </style>\n",
       "    \n",
       "    <b></b>\n",
       "        <div style=\"max-height:1000px;max-width:1500px;overflow:auto;\">\n",
       "        <table border=\"1\" class=\"Table\">\n",
       "            <thead> <tr style=\"text-align: right;\"> <th> <div class=\"djtooltip\">\n",
       "                            <p id=\"primary\">guest_id</p>\n",
       "                            <span class=\"djtooltiptext\"></span>\n",
       "                        </div></th><th><div class=\"djtooltip\">\n",
       "                            <p id=\"nonprimary\">guest_name</p>\n",
       "                            <span class=\"djtooltiptext\"></span>\n",
       "                        </div> </th> </tr> </thead>\n",
       "            <tbody> <tr> <td>2864601305</td>\n",
       "<td>Adam Nelson</td></tr><tr><td>1642893781</td>\n",
       "<td>Alicia Huerta</td></tr><tr><td>355112262</td>\n",
       "<td>Andres Castro</td></tr><tr><td>2949960533</td>\n",
       "<td>Arthur Wright</td></tr><tr><td>456674970</td>\n",
       "<td>Ashley Harrison</td></tr><tr><td>1042772978</td>\n",
       "<td>Ashley Swanson</td></tr><tr><td>3447296133</td>\n",
       "<td>Benjamin Jacobs</td></tr><tr><td>3113809067</td>\n",
       "<td>Billy Dennis</td></tr><tr><td>2024062282</td>\n",
       "<td>Brad Booth</td></tr><tr><td>2681245024</td>\n",
       "<td>Brandon Mcdonald</td></tr><tr><td>583335287</td>\n",
       "<td>Brian Santiago</td></tr><tr><td>3277354936</td>\n",
       "<td>Caitlyn Cruz</td> </tr> </tbody>\n",
       "        </table>\n",
       "        <p>...</p>\n",
       "        <p>Total: 100</p></div>\n",
       "        "
      ],
      "text/plain": [
       "*guest_id      guest_name    \n",
       "+------------+ +------------+\n",
       "2864601305     Adam Nelson   \n",
       "1642893781     Alicia Huerta \n",
       "355112262      Andres Castro \n",
       "2949960533     Arthur Wright \n",
       "456674970      Ashley Harriso\n",
       "1042772978     Ashley Swanson\n",
       "3447296133     Benjamin Jacob\n",
       "3113809067     Billy Dennis  \n",
       "2024062282     Brad Booth    \n",
       "2681245024     Brandon Mcdona\n",
       "583335287      Brian Santiago\n",
       "3277354936     Caitlyn Cruz  \n",
       "   ...\n",
       " (Total: 100)"
      ]
     },
     "execution_count": 21,
     "metadata": {},
     "output_type": "execute_result"
    }
   ],
   "source": [
    "Guest()"
   ]
  },
  {
   "cell_type": "code",
   "execution_count": 23,
   "id": "81a75c55",
   "metadata": {},
   "outputs": [
    {
     "ename": "NoReservation",
     "evalue": "(2, '2023-11-02')",
     "output_type": "error",
     "traceback": [
      "\u001b[0;31m---------------------------------------------------------------------------\u001b[0m",
      "\u001b[0;31mNoReservation\u001b[0m                             Traceback (most recent call last)",
      "Cell \u001b[0;32mIn[23], line 2\u001b[0m\n\u001b[1;32m      1\u001b[0m \u001b[39m# Try check in\u001b[39;00m\n\u001b[0;32m----> 2\u001b[0m check_in(\u001b[39m2\u001b[39;49m, datetime\u001b[39m.\u001b[39;49mdate(\u001b[39m2023\u001b[39;49m, \u001b[39m11\u001b[39;49m, \u001b[39m2\u001b[39;49m))\n",
      "Cell \u001b[0;32mIn[18], line 7\u001b[0m, in \u001b[0;36mcheck_in\u001b[0;34m(room, date)\u001b[0m\n\u001b[1;32m      5\u001b[0m     \u001b[39mraise\u001b[39;00m AlreadyChecked(room, date\u001b[39m.\u001b[39misoformat()) \u001b[39mfrom\u001b[39;00m \u001b[39mNone\u001b[39;00m\n\u001b[1;32m      6\u001b[0m \u001b[39mexcept\u001b[39;00m dj\u001b[39m.\u001b[39merrors\u001b[39m.\u001b[39mIntegrityError:\n\u001b[0;32m----> 7\u001b[0m     \u001b[39mraise\u001b[39;00m NoReservation(room, date\u001b[39m.\u001b[39misoformat()) \u001b[39mfrom\u001b[39;00m \u001b[39mNone\u001b[39;00m\n",
      "\u001b[0;31mNoReservation\u001b[0m: (2, '2023-11-02')"
     ]
    }
   ],
   "source": [
    "# Try check in\n",
    "check_in(2, datetime.date(2023, 11, 2))"
   ]
  },
  {
   "cell_type": "code",
   "execution_count": 17,
   "id": "8efc7fac",
   "metadata": {},
   "outputs": [
    {
     "name": "stderr",
     "output_type": "stream",
     "text": [
      "100%|██████████| 819/819 [00:30<00:00, 26.70it/s]\n"
     ]
    }
   ],
   "source": [
    "# checkin a bunch of people\n",
    "checkins = random.sample(Reservation().fetch('KEY'), k=int(0.9*len(Reservation())))\n",
    "for r in tqdm.tqdm(checkins):\n",
    "    try: \n",
    "        check_in(**r)\n",
    "    except AlreadyChecked as e:\n",
    "        print(repr(e))\n"
   ]
  },
  {
   "cell_type": "code",
   "execution_count": 25,
   "id": "ec862447",
   "metadata": {},
   "outputs": [
    {
     "data": {
      "text/html": [
       "\n",
       "    \n",
       "    <style type=\"text/css\">\n",
       "        .Table{\n",
       "            border-collapse:collapse;\n",
       "        }\n",
       "        .Table th{\n",
       "            background: #A0A0A0; color: #ffffff; padding:4px; border:#f0e0e0 1px solid;\n",
       "            font-weight: normal; font-family: monospace; font-size: 100%;\n",
       "        }\n",
       "        .Table td{\n",
       "            padding:4px; border:#f0e0e0 1px solid; font-size:100%;\n",
       "        }\n",
       "        .Table tr:nth-child(odd){\n",
       "            background: #ffffff;\n",
       "            color: #000000;\n",
       "        }\n",
       "        .Table tr:nth-child(even){\n",
       "            background: #f3f1ff;\n",
       "            color: #000000;\n",
       "        }\n",
       "        /* Tooltip container */\n",
       "        .djtooltip {\n",
       "        }\n",
       "        /* Tooltip text */\n",
       "        .djtooltip .djtooltiptext {\n",
       "            visibility: hidden;\n",
       "            width: 120px;\n",
       "            background-color: black;\n",
       "            color: #fff;\n",
       "            text-align: center;\n",
       "            padding: 5px 0;\n",
       "            border-radius: 6px;\n",
       "            /* Position the tooltip text - see examples below! */\n",
       "            position: absolute;\n",
       "            z-index: 1;\n",
       "        }\n",
       "        #primary {\n",
       "            font-weight: bold;\n",
       "            color: black;\n",
       "        }\n",
       "        #nonprimary {\n",
       "            font-weight: normal;\n",
       "            color: white;\n",
       "        }\n",
       "\n",
       "        /* Show the tooltip text when you mouse over the tooltip container */\n",
       "        .djtooltip:hover .djtooltiptext {\n",
       "            visibility: visible;\n",
       "        }\n",
       "    </style>\n",
       "    \n",
       "    <b></b>\n",
       "        <div style=\"max-height:1000px;max-width:1500px;overflow:auto;\">\n",
       "        <table border=\"1\" class=\"Table\">\n",
       "            <thead> <tr style=\"text-align: right;\"> <th> <div class=\"djtooltip\">\n",
       "                            <p id=\"primary\">room</p>\n",
       "                            <span class=\"djtooltiptext\"></span>\n",
       "                        </div></th><th><div class=\"djtooltip\">\n",
       "                            <p id=\"primary\">date</p>\n",
       "                            <span class=\"djtooltiptext\"></span>\n",
       "                        </div> </th> </tr> </thead>\n",
       "            <tbody> <tr> <td>0</td>\n",
       "<td>2023-11-03</td></tr><tr><td>0</td>\n",
       "<td>2023-11-04</td></tr><tr><td>0</td>\n",
       "<td>2023-11-06</td></tr><tr><td>0</td>\n",
       "<td>2023-11-14</td></tr><tr><td>0</td>\n",
       "<td>2023-11-16</td></tr><tr><td>0</td>\n",
       "<td>2023-11-25</td></tr><tr><td>0</td>\n",
       "<td>2023-11-28</td></tr><tr><td>0</td>\n",
       "<td>2023-12-01</td></tr><tr><td>0</td>\n",
       "<td>2023-12-12</td></tr><tr><td>1</td>\n",
       "<td>2023-11-01</td></tr><tr><td>1</td>\n",
       "<td>2023-11-02</td></tr><tr><td>1</td>\n",
       "<td>2023-11-14</td> </tr> </tbody>\n",
       "        </table>\n",
       "        <p>...</p>\n",
       "        <p>Total: 825</p></div>\n",
       "        "
      ],
      "text/plain": [
       "*room    *date         \n",
       "+------+ +------------+\n",
       "0        2023-11-03    \n",
       "0        2023-11-04    \n",
       "0        2023-11-06    \n",
       "0        2023-11-14    \n",
       "0        2023-11-16    \n",
       "0        2023-11-25    \n",
       "0        2023-11-28    \n",
       "0        2023-12-01    \n",
       "0        2023-12-12    \n",
       "1        2023-11-01    \n",
       "1        2023-11-02    \n",
       "1        2023-11-14    \n",
       "   ...\n",
       " (Total: 825)"
      ]
     },
     "execution_count": 25,
     "metadata": {},
     "output_type": "execute_result"
    }
   ],
   "source": [
    "CheckIn()"
   ]
  },
  {
   "cell_type": "code",
   "execution_count": 26,
   "id": "2faabb54",
   "metadata": {},
   "outputs": [
    {
     "ename": "AlreadyChecked",
     "evalue": "(70, '2023-12-07')",
     "output_type": "error",
     "traceback": [
      "\u001b[0;31m---------------------------------------------------------------------------\u001b[0m",
      "\u001b[0;31mAlreadyChecked\u001b[0m                            Traceback (most recent call last)",
      "Cell \u001b[0;32mIn[26], line 2\u001b[0m\n\u001b[1;32m      1\u001b[0m \u001b[39m# Try duplicate checkin\u001b[39;00m\n\u001b[0;32m----> 2\u001b[0m check_in(\u001b[39m*\u001b[39;49m\u001b[39m*\u001b[39;49mcheckins[\u001b[39m0\u001b[39;49m])\n",
      "Cell \u001b[0;32mIn[18], line 5\u001b[0m, in \u001b[0;36mcheck_in\u001b[0;34m(room, date)\u001b[0m\n\u001b[1;32m      3\u001b[0m     CheckIn\u001b[39m.\u001b[39minsert1(\u001b[39mdict\u001b[39m(room\u001b[39m=\u001b[39mroom, date\u001b[39m=\u001b[39mdate))\n\u001b[1;32m      4\u001b[0m \u001b[39mexcept\u001b[39;00m dj\u001b[39m.\u001b[39merrors\u001b[39m.\u001b[39mDuplicateError:\n\u001b[0;32m----> 5\u001b[0m     \u001b[39mraise\u001b[39;00m AlreadyChecked(room, date\u001b[39m.\u001b[39misoformat()) \u001b[39mfrom\u001b[39;00m \u001b[39mNone\u001b[39;00m\n\u001b[1;32m      6\u001b[0m \u001b[39mexcept\u001b[39;00m dj\u001b[39m.\u001b[39merrors\u001b[39m.\u001b[39mIntegrityError:\n\u001b[1;32m      7\u001b[0m     \u001b[39mraise\u001b[39;00m NoReservation(room, date\u001b[39m.\u001b[39misoformat()) \u001b[39mfrom\u001b[39;00m \u001b[39mNone\u001b[39;00m\n",
      "\u001b[0;31mAlreadyChecked\u001b[0m: (70, '2023-12-07')"
     ]
    }
   ],
   "source": [
    "# Try duplicate checkin\n",
    "check_in(**checkins[0])"
   ]
  },
  {
   "cell_type": "code",
   "execution_count": 27,
   "id": "5236b125",
   "metadata": {},
   "outputs": [
    {
     "ename": "NotCheckedIn",
     "evalue": "(2, '2023-10-02')",
     "output_type": "error",
     "traceback": [
      "\u001b[0;31m---------------------------------------------------------------------------\u001b[0m",
      "\u001b[0;31mNotCheckedIn\u001b[0m                              Traceback (most recent call last)",
      "Cell \u001b[0;32mIn[27], line 3\u001b[0m\n\u001b[1;32m      1\u001b[0m \u001b[39m# Try checkout\u001b[39;00m\n\u001b[0;32m----> 3\u001b[0m check_out(\u001b[39m2\u001b[39;49m, datetime\u001b[39m.\u001b[39;49mdate(\u001b[39m2023\u001b[39;49m, \u001b[39m10\u001b[39;49m, \u001b[39m2\u001b[39;49m))\n",
      "Cell \u001b[0;32mIn[19], line 7\u001b[0m, in \u001b[0;36mcheck_out\u001b[0;34m(room, date)\u001b[0m\n\u001b[1;32m      5\u001b[0m     \u001b[39mraise\u001b[39;00m AlreadyChecked(room, date\u001b[39m.\u001b[39misoformat()) \u001b[39mfrom\u001b[39;00m \u001b[39mNone\u001b[39;00m\n\u001b[1;32m      6\u001b[0m \u001b[39mexcept\u001b[39;00m dj\u001b[39m.\u001b[39merrors\u001b[39m.\u001b[39mIntegrityError:\n\u001b[0;32m----> 7\u001b[0m     \u001b[39mraise\u001b[39;00m NotCheckedIn(room, date\u001b[39m.\u001b[39misoformat()) \u001b[39mfrom\u001b[39;00m \u001b[39mNone\u001b[39;00m\n",
      "\u001b[0;31mNotCheckedIn\u001b[0m: (2, '2023-10-02')"
     ]
    }
   ],
   "source": [
    "# Try checkout\n",
    "\n",
    "check_out(2, datetime.date(2023, 10, 2))"
   ]
  },
  {
   "cell_type": "code",
   "execution_count": 18,
   "id": "85a3a740",
   "metadata": {},
   "outputs": [
    {
     "name": "stderr",
     "output_type": "stream",
     "text": [
      "100%|██████████| 737/737 [00:28<00:00, 25.53it/s]\n"
     ]
    }
   ],
   "source": [
    "# checkout a bunch of people\n",
    "checkouts = random.sample(CheckIn().fetch('KEY'), k=int(0.9*len(CheckIn())))\n",
    "for r in tqdm.tqdm(checkouts):\n",
    "    try:\n",
    "        check_out(**r)\n",
    "    except AlreadyChecked as e:\n",
    "        print(repr(e))"
   ]
  },
  {
   "cell_type": "code",
   "execution_count": 29,
   "id": "5151ae4b",
   "metadata": {},
   "outputs": [
    {
     "ename": "AlreadyChecked",
     "evalue": "(65, '2023-12-13')",
     "output_type": "error",
     "traceback": [
      "\u001b[0;31m---------------------------------------------------------------------------\u001b[0m",
      "\u001b[0;31mAlreadyChecked\u001b[0m                            Traceback (most recent call last)",
      "Cell \u001b[0;32mIn[29], line 3\u001b[0m\n\u001b[1;32m      1\u001b[0m \u001b[39m# try duplicate checkout\u001b[39;00m\n\u001b[0;32m----> 3\u001b[0m check_out(\u001b[39m*\u001b[39;49m\u001b[39m*\u001b[39;49mcheckouts[\u001b[39m0\u001b[39;49m])\n",
      "Cell \u001b[0;32mIn[19], line 5\u001b[0m, in \u001b[0;36mcheck_out\u001b[0;34m(room, date)\u001b[0m\n\u001b[1;32m      3\u001b[0m     CheckOut\u001b[39m.\u001b[39minsert1(\u001b[39mdict\u001b[39m(room\u001b[39m=\u001b[39mroom, date\u001b[39m=\u001b[39mdate))\n\u001b[1;32m      4\u001b[0m \u001b[39mexcept\u001b[39;00m dj\u001b[39m.\u001b[39merrors\u001b[39m.\u001b[39mDuplicateError:\n\u001b[0;32m----> 5\u001b[0m     \u001b[39mraise\u001b[39;00m AlreadyChecked(room, date\u001b[39m.\u001b[39misoformat()) \u001b[39mfrom\u001b[39;00m \u001b[39mNone\u001b[39;00m\n\u001b[1;32m      6\u001b[0m \u001b[39mexcept\u001b[39;00m dj\u001b[39m.\u001b[39merrors\u001b[39m.\u001b[39mIntegrityError:\n\u001b[1;32m      7\u001b[0m     \u001b[39mraise\u001b[39;00m NotCheckedIn(room, date\u001b[39m.\u001b[39misoformat()) \u001b[39mfrom\u001b[39;00m \u001b[39mNone\u001b[39;00m\n",
      "\u001b[0;31mAlreadyChecked\u001b[0m: (65, '2023-12-13')"
     ]
    }
   ],
   "source": [
    "# try duplicate checkout\n",
    "\n",
    "check_out(**checkouts[0])"
   ]
  },
  {
   "cell_type": "markdown",
   "id": "4ebd1fd9",
   "metadata": {},
   "source": [
    "# Queries \n",
    "\n",
    "## Query 1: List all guests who have stayed in room 1"
   ]
  },
  {
   "cell_type": "code",
   "execution_count": 30,
   "id": "fa181a79",
   "metadata": {},
   "outputs": [
    {
     "data": {
      "text/html": [
       "\n",
       "    \n",
       "    <style type=\"text/css\">\n",
       "        .Table{\n",
       "            border-collapse:collapse;\n",
       "        }\n",
       "        .Table th{\n",
       "            background: #A0A0A0; color: #ffffff; padding:4px; border:#f0e0e0 1px solid;\n",
       "            font-weight: normal; font-family: monospace; font-size: 100%;\n",
       "        }\n",
       "        .Table td{\n",
       "            padding:4px; border:#f0e0e0 1px solid; font-size:100%;\n",
       "        }\n",
       "        .Table tr:nth-child(odd){\n",
       "            background: #ffffff;\n",
       "            color: #000000;\n",
       "        }\n",
       "        .Table tr:nth-child(even){\n",
       "            background: #f3f1ff;\n",
       "            color: #000000;\n",
       "        }\n",
       "        /* Tooltip container */\n",
       "        .djtooltip {\n",
       "        }\n",
       "        /* Tooltip text */\n",
       "        .djtooltip .djtooltiptext {\n",
       "            visibility: hidden;\n",
       "            width: 120px;\n",
       "            background-color: black;\n",
       "            color: #fff;\n",
       "            text-align: center;\n",
       "            padding: 5px 0;\n",
       "            border-radius: 6px;\n",
       "            /* Position the tooltip text - see examples below! */\n",
       "            position: absolute;\n",
       "            z-index: 1;\n",
       "        }\n",
       "        #primary {\n",
       "            font-weight: bold;\n",
       "            color: black;\n",
       "        }\n",
       "        #nonprimary {\n",
       "            font-weight: normal;\n",
       "            color: white;\n",
       "        }\n",
       "\n",
       "        /* Show the tooltip text when you mouse over the tooltip container */\n",
       "        .djtooltip:hover .djtooltiptext {\n",
       "            visibility: visible;\n",
       "        }\n",
       "    </style>\n",
       "    \n",
       "    <b></b>\n",
       "        <div style=\"max-height:1000px;max-width:1500px;overflow:auto;\">\n",
       "        <table border=\"1\" class=\"Table\">\n",
       "            <thead> <tr style=\"text-align: right;\"> <th> <div class=\"djtooltip\">\n",
       "                            <p id=\"primary\">guest_id</p>\n",
       "                            <span class=\"djtooltiptext\"></span>\n",
       "                        </div></th><th><div class=\"djtooltip\">\n",
       "                            <p id=\"nonprimary\">guest_name</p>\n",
       "                            <span class=\"djtooltiptext\"></span>\n",
       "                        </div> </th> </tr> </thead>\n",
       "            <tbody> <tr> <td>1567202417</td>\n",
       "<td>Mark Lane</td></tr><tr><td>877452699</td>\n",
       "<td>Sandra Brewer</td></tr><tr><td>856648119</td>\n",
       "<td>Kimberly Lee</td></tr><tr><td>2107900346</td>\n",
       "<td>Nathan Atkinson</td></tr><tr><td>2413549786</td>\n",
       "<td>Danielle Hamilton</td></tr><tr><td>12668262</td>\n",
       "<td>Patrick Wells</td></tr><tr><td>2053145634</td>\n",
       "<td>Jeremy Phillips</td></tr><tr><td>3325409506</td>\n",
       "<td>Melinda Flores</td></tr><tr><td>4167308935</td>\n",
       "<td>Melody Snyder</td></tr><tr><td>2071295419</td>\n",
       "<td>Douglas Murphy</td> </tr> </tbody>\n",
       "        </table>\n",
       "        \n",
       "        <p>Total: 10</p></div>\n",
       "        "
      ],
      "text/plain": [
       "*guest_id      guest_name    \n",
       "+------------+ +------------+\n",
       "1567202417     Mark Lane     \n",
       "877452699      Sandra Brewer \n",
       "856648119      Kimberly Lee  \n",
       "2107900346     Nathan Atkinso\n",
       "2413549786     Danielle Hamil\n",
       "12668262       Patrick Wells \n",
       "2053145634     Jeremy Phillip\n",
       "3325409506     Melinda Flores\n",
       "4167308935     Melody Snyder \n",
       "2071295419     Douglas Murphy\n",
       " (Total: 10)"
      ]
     },
     "execution_count": 30,
     "metadata": {},
     "output_type": "execute_result"
    }
   ],
   "source": [
    "Guest & (Reservation & (CheckIn & 'room=1'))"
   ]
  },
  {
   "cell_type": "code",
   "execution_count": 31,
   "id": "e9891efc",
   "metadata": {},
   "outputs": [
    {
     "data": {
      "text/html": [
       "\n",
       "    \n",
       "    <style type=\"text/css\">\n",
       "        .Table{\n",
       "            border-collapse:collapse;\n",
       "        }\n",
       "        .Table th{\n",
       "            background: #A0A0A0; color: #ffffff; padding:4px; border:#f0e0e0 1px solid;\n",
       "            font-weight: normal; font-family: monospace; font-size: 100%;\n",
       "        }\n",
       "        .Table td{\n",
       "            padding:4px; border:#f0e0e0 1px solid; font-size:100%;\n",
       "        }\n",
       "        .Table tr:nth-child(odd){\n",
       "            background: #ffffff;\n",
       "            color: #000000;\n",
       "        }\n",
       "        .Table tr:nth-child(even){\n",
       "            background: #f3f1ff;\n",
       "            color: #000000;\n",
       "        }\n",
       "        /* Tooltip container */\n",
       "        .djtooltip {\n",
       "        }\n",
       "        /* Tooltip text */\n",
       "        .djtooltip .djtooltiptext {\n",
       "            visibility: hidden;\n",
       "            width: 120px;\n",
       "            background-color: black;\n",
       "            color: #fff;\n",
       "            text-align: center;\n",
       "            padding: 5px 0;\n",
       "            border-radius: 6px;\n",
       "            /* Position the tooltip text - see examples below! */\n",
       "            position: absolute;\n",
       "            z-index: 1;\n",
       "        }\n",
       "        #primary {\n",
       "            font-weight: bold;\n",
       "            color: black;\n",
       "        }\n",
       "        #nonprimary {\n",
       "            font-weight: normal;\n",
       "            color: white;\n",
       "        }\n",
       "\n",
       "        /* Show the tooltip text when you mouse over the tooltip container */\n",
       "        .djtooltip:hover .djtooltiptext {\n",
       "            visibility: visible;\n",
       "        }\n",
       "    </style>\n",
       "    \n",
       "    <b></b>\n",
       "        <div style=\"max-height:1000px;max-width:1500px;overflow:auto;\">\n",
       "        <table border=\"1\" class=\"Table\">\n",
       "            <thead> <tr style=\"text-align: right;\"> <th> <div class=\"djtooltip\">\n",
       "                            <p id=\"primary\">guest_id</p>\n",
       "                            <span class=\"djtooltiptext\"></span>\n",
       "                        </div></th><th><div class=\"djtooltip\">\n",
       "                            <p id=\"nonprimary\">guest_name</p>\n",
       "                            <span class=\"djtooltiptext\"></span>\n",
       "                        </div> </th> </tr> </thead>\n",
       "            <tbody> <tr> <td>1567202417</td>\n",
       "<td>Mark Lane</td></tr><tr><td>877452699</td>\n",
       "<td>Sandra Brewer</td></tr><tr><td>856648119</td>\n",
       "<td>Kimberly Lee</td></tr><tr><td>2107900346</td>\n",
       "<td>Nathan Atkinson</td></tr><tr><td>2413549786</td>\n",
       "<td>Danielle Hamilton</td></tr><tr><td>12668262</td>\n",
       "<td>Patrick Wells</td></tr><tr><td>2053145634</td>\n",
       "<td>Jeremy Phillips</td></tr><tr><td>3325409506</td>\n",
       "<td>Melinda Flores</td></tr><tr><td>4167308935</td>\n",
       "<td>Melody Snyder</td></tr><tr><td>2071295419</td>\n",
       "<td>Douglas Murphy</td> </tr> </tbody>\n",
       "        </table>\n",
       "        \n",
       "        <p>Total: 10</p></div>\n",
       "        "
      ],
      "text/plain": [
       "*guest_id      guest_name    \n",
       "+------------+ +------------+\n",
       "1567202417     Mark Lane     \n",
       "877452699      Sandra Brewer \n",
       "856648119      Kimberly Lee  \n",
       "2107900346     Nathan Atkinso\n",
       "2413549786     Danielle Hamil\n",
       "12668262       Patrick Wells \n",
       "2053145634     Jeremy Phillip\n",
       "3325409506     Melinda Flores\n",
       "4167308935     Melody Snyder \n",
       "2071295419     Douglas Murphy\n",
       " (Total: 10)"
      ]
     },
     "execution_count": 31,
     "metadata": {},
     "output_type": "execute_result"
    }
   ],
   "source": [
    "Guest & (Reservation * CheckIn & 'room=1')"
   ]
  },
  {
   "cell_type": "code",
   "execution_count": null,
   "id": "d24bccfb",
   "metadata": {},
   "outputs": [],
   "source": [
    "_.make_sql()"
   ]
  },
  {
   "cell_type": "markdown",
   "id": "d281a8f4",
   "metadata": {},
   "source": [
    "## Query 2: List all nights when a guest stayed at a hotel"
   ]
  },
  {
   "cell_type": "code",
   "execution_count": 32,
   "id": "37156855",
   "metadata": {},
   "outputs": [],
   "source": [
    "# pick a guest\n",
    "guest = random.choice(Guest().fetch('KEY'))"
   ]
  },
  {
   "cell_type": "code",
   "execution_count": 33,
   "id": "f166cbe4",
   "metadata": {},
   "outputs": [
    {
     "data": {
      "text/plain": [
       "{'guest_id': 2807868274}"
      ]
     },
     "execution_count": 33,
     "metadata": {},
     "output_type": "execute_result"
    }
   ],
   "source": [
    "guest"
   ]
  },
  {
   "cell_type": "code",
   "execution_count": 34,
   "id": "63504e50",
   "metadata": {},
   "outputs": [
    {
     "data": {
      "text/html": [
       "\n",
       "    \n",
       "    <style type=\"text/css\">\n",
       "        .Table{\n",
       "            border-collapse:collapse;\n",
       "        }\n",
       "        .Table th{\n",
       "            background: #A0A0A0; color: #ffffff; padding:4px; border:#f0e0e0 1px solid;\n",
       "            font-weight: normal; font-family: monospace; font-size: 100%;\n",
       "        }\n",
       "        .Table td{\n",
       "            padding:4px; border:#f0e0e0 1px solid; font-size:100%;\n",
       "        }\n",
       "        .Table tr:nth-child(odd){\n",
       "            background: #ffffff;\n",
       "            color: #000000;\n",
       "        }\n",
       "        .Table tr:nth-child(even){\n",
       "            background: #f3f1ff;\n",
       "            color: #000000;\n",
       "        }\n",
       "        /* Tooltip container */\n",
       "        .djtooltip {\n",
       "        }\n",
       "        /* Tooltip text */\n",
       "        .djtooltip .djtooltiptext {\n",
       "            visibility: hidden;\n",
       "            width: 120px;\n",
       "            background-color: black;\n",
       "            color: #fff;\n",
       "            text-align: center;\n",
       "            padding: 5px 0;\n",
       "            border-radius: 6px;\n",
       "            /* Position the tooltip text - see examples below! */\n",
       "            position: absolute;\n",
       "            z-index: 1;\n",
       "        }\n",
       "        #primary {\n",
       "            font-weight: bold;\n",
       "            color: black;\n",
       "        }\n",
       "        #nonprimary {\n",
       "            font-weight: normal;\n",
       "            color: white;\n",
       "        }\n",
       "\n",
       "        /* Show the tooltip text when you mouse over the tooltip container */\n",
       "        .djtooltip:hover .djtooltiptext {\n",
       "            visibility: visible;\n",
       "        }\n",
       "    </style>\n",
       "    \n",
       "    \n",
       "        <div style=\"max-height:1000px;max-width:1500px;overflow:auto;\">\n",
       "        <table border=\"1\" class=\"Table\">\n",
       "            <thead> <tr style=\"text-align: right;\"> <th> <div class=\"djtooltip\">\n",
       "                            <p id=\"primary\">room</p>\n",
       "                            <span class=\"djtooltiptext\"></span>\n",
       "                        </div></th><th><div class=\"djtooltip\">\n",
       "                            <p id=\"primary\">date</p>\n",
       "                            <span class=\"djtooltiptext\"></span>\n",
       "                        </div> </th> </tr> </thead>\n",
       "            <tbody> <tr> <td>10</td>\n",
       "<td>2023-11-17</td></tr><tr><td>10</td>\n",
       "<td>2023-12-02</td></tr><tr><td>14</td>\n",
       "<td>2023-11-21</td></tr><tr><td>18</td>\n",
       "<td>2023-11-23</td></tr><tr><td>20</td>\n",
       "<td>2023-11-19</td></tr><tr><td>22</td>\n",
       "<td>2023-11-09</td></tr><tr><td>24</td>\n",
       "<td>2023-11-09</td></tr><tr><td>25</td>\n",
       "<td>2023-11-07</td></tr><tr><td>32</td>\n",
       "<td>2023-11-20</td></tr><tr><td>36</td>\n",
       "<td>2023-11-29</td></tr><tr><td>36</td>\n",
       "<td>2023-12-06</td></tr><tr><td>37</td>\n",
       "<td>2023-11-10</td> </tr> </tbody>\n",
       "        </table>\n",
       "        <p>...</p>\n",
       "        <p>Total: 15</p></div>\n",
       "        "
      ],
      "text/plain": [
       "*room    *date         \n",
       "+------+ +------------+\n",
       "10       2023-11-17    \n",
       "10       2023-12-02    \n",
       "14       2023-11-21    \n",
       "18       2023-11-23    \n",
       "20       2023-11-19    \n",
       "22       2023-11-09    \n",
       "24       2023-11-09    \n",
       "25       2023-11-07    \n",
       "32       2023-11-20    \n",
       "36       2023-11-29    \n",
       "36       2023-12-06    \n",
       "37       2023-11-10    \n",
       "   ...\n",
       " (Total: 15)"
      ]
     },
     "execution_count": 34,
     "metadata": {},
     "output_type": "execute_result"
    }
   ],
   "source": [
    "(Reservation * CheckIn & guest).proj()"
   ]
  },
  {
   "cell_type": "code",
   "execution_count": null,
   "id": "6f8d93df",
   "metadata": {},
   "outputs": [],
   "source": []
  }
 ],
 "metadata": {
  "kernelspec": {
   "display_name": "Python 3",
   "language": "python",
   "name": "python3"
  },
  "language_info": {
   "codemirror_mode": {
    "name": "ipython",
    "version": 3
   },
   "file_extension": ".py",
   "mimetype": "text/x-python",
   "name": "python",
   "nbconvert_exporter": "python",
   "pygments_lexer": "ipython3",
   "version": "3.9.17"
  }
 },
 "nbformat": 4,
 "nbformat_minor": 5
}
